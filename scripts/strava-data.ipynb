{
 "cells": [
  {
   "cell_type": "code",
   "execution_count": 2,
   "metadata": {
    "scrolled": true
   },
   "outputs": [],
   "source": [
    "import os\n",
    "import requests"
   ]
  },
  {
   "cell_type": "code",
   "execution_count": 3,
   "metadata": {},
   "outputs": [
    {
     "data": {
      "text/plain": [
       "<Response [200]>"
      ]
     },
     "execution_count": 3,
     "metadata": {},
     "output_type": "execute_result"
    }
   ],
   "source": [
    "strava_url = \"https://www.strava.com/api/v3\"\n",
    "segments_endpoint = \"/segments/explore\"\n",
    "\n",
    "strava_access_token = os.environ[\"STRAVA_ACCESS_TOKEN\"]\n",
    "headers = {\n",
    "    \"Authorization\": f\"Bearer {strava_access_token}\"\n",
    "}\n",
    "\n",
    "coords = [\"14.463373\", \"121.01713\", \"14.562081\", \"121.11108\"]\n",
    "payload = {\n",
    "    \"bounds\": \",\".join(coords),\n",
    "    \"activity_type\": \"riding\",\n",
    "}\n",
    "\n",
    "segments_response = requests.get(f\"{strava_url}{segments_endpoint}\", headers=headers, params=payload)\n",
    "segments_response"
   ]
  },
  {
   "cell_type": "code",
   "execution_count": 4,
   "metadata": {},
   "outputs": [
    {
     "data": {
      "text/plain": [
       "[6319712,\n",
       " 6769862,\n",
       " 7980992,\n",
       " 19450842,\n",
       " 3102793,\n",
       " 4619146,\n",
       " 25902148,\n",
       " 6808190,\n",
       " 7407919,\n",
       " 24958196]"
      ]
     },
     "execution_count": 4,
     "metadata": {},
     "output_type": "execute_result"
    }
   ],
   "source": [
    "segments = segments_response.json()[\"segments\"]\n",
    "segment_ids = [segment[\"id\"] for segment in segments]\n",
    "segment_ids"
   ]
  }
 ],
 "metadata": {
  "interpreter": {
   "hash": "aead75f025cdad200ff103fc5429b311dc713468bd90372556b372aa6992c94c"
  },
  "kernelspec": {
   "display_name": "Python 3",
   "language": "python",
   "name": "python3"
  },
  "language_info": {
   "codemirror_mode": {
    "name": "ipython",
    "version": 3
   },
   "file_extension": ".py",
   "mimetype": "text/x-python",
   "name": "python",
   "nbconvert_exporter": "python",
   "pygments_lexer": "ipython3",
   "version": "3.7.6"
  }
 },
 "nbformat": 4,
 "nbformat_minor": 2
}
